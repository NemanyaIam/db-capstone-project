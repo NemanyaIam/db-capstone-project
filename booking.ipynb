{
 "cells": [
  {
   "cell_type": "code",
   "execution_count": 1,
   "id": "b1275729-0620-4545-9080-ea2dfb621727",
   "metadata": {},
   "outputs": [
    {
     "name": "stdout",
     "output_type": "stream",
     "text": [
      "Defaulting to user installation because normal site-packages is not writeable\n",
      "Requirement already satisfied: mysql-connector-python in c:\\program files\\python312\\lib\\site-packages (8.4.0)\n"
     ]
    }
   ],
   "source": [
    "!pip install mysql-connector-python"
   ]
  },
  {
   "cell_type": "code",
   "execution_count": 2,
   "id": "1cd9a210-27ed-4a8a-9bd2-9035aad6ca50",
   "metadata": {},
   "outputs": [],
   "source": [
    "import mysql.connector as connector"
   ]
  },
  {
   "cell_type": "code",
   "execution_count": 3,
   "id": "7788592f-5ed3-47c9-937b-1c2586db41f6",
   "metadata": {},
   "outputs": [],
   "source": [
    "connection = connector.connect(user = \"meta\", password = \"nemanjagit90\")"
   ]
  },
  {
   "cell_type": "code",
   "execution_count": 4,
   "id": "9674119b-dc42-4745-9175-dfa68270a120",
   "metadata": {},
   "outputs": [],
   "source": [
    "connection = connector.connect(user = \"meta\", password = \"nemanjagit90\", db = \"little_lemon_db\") "
   ]
  },
  {
   "cell_type": "code",
   "execution_count": 5,
   "id": "499f481a-333d-4d1f-b514-1250688d79c1",
   "metadata": {},
   "outputs": [
    {
     "ename": "NameError",
     "evalue": "name 'cursor' is not defined",
     "output_type": "error",
     "traceback": [
      "\u001b[1;31m---------------------------------------------------------------------------\u001b[0m",
      "\u001b[1;31mNameError\u001b[0m                                 Traceback (most recent call last)",
      "Cell \u001b[1;32mIn[5], line 2\u001b[0m\n\u001b[0;32m      1\u001b[0m show_tables_query \u001b[38;5;241m=\u001b[39m \u001b[38;5;124m\"\u001b[39m\u001b[38;5;124mSHOW tables\u001b[39m\u001b[38;5;124m\"\u001b[39m \n\u001b[1;32m----> 2\u001b[0m \u001b[43mcursor\u001b[49m\u001b[38;5;241m.\u001b[39mexecute(show_tables_query)\n",
      "\u001b[1;31mNameError\u001b[0m: name 'cursor' is not defined"
     ]
    }
   ],
   "source": [
    "show_tables_query = \"SHOW tables\" \n",
    "cursor.execute(show_tables_query)"
   ]
  },
  {
   "cell_type": "code",
   "execution_count": 6,
   "id": "3f11e871-8a17-4526-88f3-25e722095e4d",
   "metadata": {},
   "outputs": [
    {
     "ename": "NameError",
     "evalue": "name 'mysql' is not defined",
     "output_type": "error",
     "traceback": [
      "\u001b[1;31m---------------------------------------------------------------------------\u001b[0m",
      "\u001b[1;31mNameError\u001b[0m                                 Traceback (most recent call last)",
      "Cell \u001b[1;32mIn[6], line 1\u001b[0m\n\u001b[1;32m----> 1\u001b[0m conn \u001b[38;5;241m=\u001b[39m \u001b[43mmysql\u001b[49m\u001b[38;5;241m.\u001b[39mconnector\u001b[38;5;241m.\u001b[39mconnect(\n\u001b[0;32m      2\u001b[0m     host\u001b[38;5;241m=\u001b[39m\u001b[38;5;124m'\u001b[39m\u001b[38;5;124mlocalhost\u001b[39m\u001b[38;5;124m'\u001b[39m,    \u001b[38;5;66;03m# e.g., 'localhost'\u001b[39;00m\n\u001b[0;32m      3\u001b[0m     user\u001b[38;5;241m=\u001b[39m\u001b[38;5;124m'\u001b[39m\u001b[38;5;124mmeta\u001b[39m\u001b[38;5;124m'\u001b[39m, \u001b[38;5;66;03m# e.g., 'root'\u001b[39;00m\n\u001b[0;32m      4\u001b[0m     password\u001b[38;5;241m=\u001b[39m\u001b[38;5;124m'\u001b[39m\u001b[38;5;124mnemanjagit90\u001b[39m\u001b[38;5;124m'\u001b[39m, \u001b[38;5;66;03m# e.g., 'password'\u001b[39;00m\n\u001b[0;32m      5\u001b[0m     database\u001b[38;5;241m=\u001b[39m\u001b[38;5;124m'\u001b[39m\u001b[38;5;124mlittle_lemon_db\u001b[39m\u001b[38;5;124m'\u001b[39m \u001b[38;5;66;03m# your database name\u001b[39;00m\n\u001b[0;32m      6\u001b[0m )\n",
      "\u001b[1;31mNameError\u001b[0m: name 'mysql' is not defined"
     ]
    }
   ],
   "source": [
    "conn = mysql.connector.connect(\n",
    "    host='localhost',    # e.g., 'localhost'\n",
    "    user='meta', # e.g., 'root'\n",
    "    password='nemanjagit90', # e.g., 'password'\n",
    "    database='little_lemon_db' # your database name\n",
    ")"
   ]
  },
  {
   "cell_type": "code",
   "execution_count": 7,
   "id": "e8b38e42-3f2d-4a95-8ae0-041c4bd08a9b",
   "metadata": {},
   "outputs": [
    {
     "name": "stdout",
     "output_type": "stream",
     "text": [
      "Defaulting to user installation because normal site-packages is not writeable\n",
      "Requirement already satisfied: mysql-connector-python in c:\\program files\\python312\\lib\\site-packages (8.4.0)\n",
      "Note: you may need to restart the kernel to use updated packages.\n"
     ]
    }
   ],
   "source": [
    "pip install mysql-connector-python"
   ]
  },
  {
   "cell_type": "code",
   "execution_count": 8,
   "id": "6836041b-0da0-4d4f-b63d-f4410e6a8278",
   "metadata": {},
   "outputs": [],
   "source": [
    "import mysql.connector as connector"
   ]
  },
  {
   "cell_type": "code",
   "execution_count": 9,
   "id": "1005d5d5-2df3-42b8-960a-6d3906755e70",
   "metadata": {},
   "outputs": [],
   "source": [
    "conn = connector.connect(\n",
    "    host='localhost',    # your host, usually 'localhost'\n",
    "    user='meta',         # your username\n",
    "    password='nemanjagit90', # your password\n",
    "    database='little_lemon_db' # your database name\n",
    ")"
   ]
  },
  {
   "cell_type": "code",
   "execution_count": 11,
   "id": "78beae4a-0264-41f4-bdae-88b30feb9885",
   "metadata": {},
   "outputs": [],
   "source": [
    "# Create a cursor object\n",
    "cursor = conn.cursor()"
   ]
  },
  {
   "cell_type": "code",
   "execution_count": 12,
   "id": "0ad82691-f7f2-4ff3-8cac-a7f348e08946",
   "metadata": {},
   "outputs": [],
   "source": [
    "# Execute the SHOW TABLES query\n",
    "show_tables_query = \"SHOW TABLES\"\n",
    "cursor.execute(show_tables_query)"
   ]
  },
  {
   "cell_type": "code",
   "execution_count": 13,
   "id": "1d644a61-d0c8-4aee-ab93-3f8e6cded9de",
   "metadata": {},
   "outputs": [
    {
     "name": "stdout",
     "output_type": "stream",
     "text": [
      "('bookings',)\n",
      "('customers',)\n",
      "('menu_items',)\n",
      "('menus',)\n",
      "('ordercost',)\n",
      "('orderquantity',)\n",
      "('orders',)\n",
      "('ordersview',)\n"
     ]
    }
   ],
   "source": [
    "# Fetch and print the results\n",
    "tables = cursor.fetchall()\n",
    "for table in tables:\n",
    "    print(table)"
   ]
  },
  {
   "cell_type": "code",
   "execution_count": 14,
   "id": "8eeb255e-4a28-4d96-84c2-fbac85ce1cae",
   "metadata": {},
   "outputs": [
    {
     "name": "stdout",
     "output_type": "stream",
     "text": [
      "('Petar Petrovic', 12345678, 140)\n",
      "('Petar Petrovic', 12345678, 200)\n",
      "('Jovan Jovanovic', 23456789, 300)\n",
      "('Jovan Jovanovic', 23456789, 250)\n",
      "('Ivan Ivanovic', 34567890, 150)\n"
     ]
    }
   ],
   "source": [
    "# Define the query\n",
    "query = \"\"\"\n",
    "SELECT \n",
    "    customers.full_name,\n",
    "    customers.contact_number,\n",
    "    orders.total_cost\n",
    "FROM \n",
    "    customers\n",
    "JOIN \n",
    "    orders ON customers.customer_id = orders.customer_id\n",
    "WHERE \n",
    "    orders.total_cost > 60;\n",
    "\"\"\"\n",
    "\n",
    "# Execute the query\n",
    "cursor.execute(query)\n",
    "\n",
    "# Fetch and print the results\n",
    "results = cursor.fetchall()\n",
    "for row in results:\n",
    "    print(row)\n",
    "\n",
    "# Close the cursor and connection\n",
    "cursor.close()\n",
    "conn.close()"
   ]
  },
  {
   "cell_type": "code",
   "execution_count": null,
   "id": "b260f4e0-c570-4071-93fe-2130f0481954",
   "metadata": {},
   "outputs": [],
   "source": []
  }
 ],
 "metadata": {
  "kernelspec": {
   "display_name": "Python 3 (ipykernel)",
   "language": "python",
   "name": "python3"
  },
  "language_info": {
   "codemirror_mode": {
    "name": "ipython",
    "version": 3
   },
   "file_extension": ".py",
   "mimetype": "text/x-python",
   "name": "python",
   "nbconvert_exporter": "python",
   "pygments_lexer": "ipython3",
   "version": "3.12.4"
  }
 },
 "nbformat": 4,
 "nbformat_minor": 5
}
